{
 "cells": [
  {
   "cell_type": "markdown",
   "metadata": {},
   "source": [
    "# Problem Definition\n",
    "\n",
    "The primary objective of this project is to develop and compare the performance of multiple regression models in the context of predicting the COVID-19 reproduction rate for countries with unavailable data, such as North Korea. To tackle the challenge of predicting reproduction rate for North Korea, where data is largely inaccessible, we will consider alternative countries for which we do have the necessary covariate data and target variable data. This enables us to test the performance our various models, establish which model has performed best on our test data and draw insights that could then be applied to similar regions with limited data availability when applied to a real-world scenario.\n"
   ]
  },
  {
   "cell_type": "markdown",
   "metadata": {},
   "source": [
    "# Model Selection\n",
    "\n",
    "Brief rationale for why we initially selected these models (try get a reference in here). Brief Mathematical explaination\n",
    "\n",
    "1. Linear Regression:\n",
    "\n",
    "The implementation of linear models serves as a baseline model, acting as a benchmark against which the more complex models we implement can be compared [1]. Additionally, linear regression is simple and provides an adequate description of the linear relationship between input and output variables due to its straightforward formulation and the interpretability of coefficient magnitudes (The magnitude of the coefficient indicates the strength of the relationship between the predictor and the response variable) [2]. \n",
    "\n",
    "\n",
    "The basic linear regression model can be expressed mathematically as follows:\n",
    "\n",
    "$$\n",
    "Y = \\beta_0 + \\beta_1 X_1 + \\beta_2 X_2 + \\ldots + \\beta_n X_n \n",
    "$$\n",
    "\n",
    "\n",
    "Where:\n",
    "- $Y$ is the dependent variable (target variable), i.e. the variable we predict (in this case, COVID-19 reproduction rate).\n",
    "- $X_1, X_2, \\ldots, X_n$ are the independent variables (predictor variables) that are used to predict $Y$.\n",
    "- $\\beta_0$ is the y-intercept of the regression line\n",
    "- $\\beta_1, \\beta_2, \\ldots, \\beta_n $ are the coefficients corresponding to each independent variable. These are adjusted throughout training of the models to minimise the mean squared error between our predicted value for the target variable's true real value\n",
    "\n",
    "\n",
    "\n",
    "\n",
    "\n",
    "2. KNN:\n",
    "\n",
    "KNN acts as a more complex model, which relies on proximity in feature space. KNN is relatively easy to implement, whilst also being adaptible to a wide variety of datasets [3]. The non-parametric nature of KNN makes it flexible as it does not assume an underlying distribution for the data (unlike a linear regression model). When using a suitable number of neighbors, KNN can be robust to noise, and can be computationally efficient for different sizes of dataset. The structure of a KNN algorithm [4] for regression is as follows:\n",
    "\n",
    "- Features can be scaled using scalers such as StandardScaler or RobustScaler, to ensure that some featrures do not have disproportionate influence. This could happen if, for example, a specific feature has very large values. Since KNN is distance based, this will mean it has increased influence even though it is not necessarily more important as a feature.\n",
    "- The algorithm finds the k-nearest neighbors from the training set to a given point in the test set. Distance metrics include Euclidean and Manhattan.\n",
    "- KNN predicts values by averaging the target values of these k-nearest neighbors.\n",
    "\n",
    "3. RF: To evaluate a more complex, ensemble model that can handle non-linear relationships and interactions, potentially providing better performance if the data is complex."
   ]
  },
  {
   "cell_type": "markdown",
   "metadata": {},
   "source": [
    "# Performance Metric Selection and justification\n",
    "\n",
    "- justify MSE\n",
    "- For a regression problem, explain that MSE is widely used to measure model accuracy as it captures the average squared difference between actual and predicted values, heavily penalizing larger errors and thus encouraging more precise predictions."
   ]
  },
  {
   "cell_type": "markdown",
   "metadata": {},
   "source": [
    "# Initial Hypothesis "
   ]
  },
  {
   "cell_type": "markdown",
   "metadata": {},
   "source": [
    "### References\n",
    "\n",
    "[1] https://www.cs.uoi.gr/~arly/courses/ml/tmp/Bishop_book.pdf\n",
    "\n",
    "[2] file:///C:/Users/markm/Downloads/978-0-387-84858-7.pdf [FIX]"
    "\n",
    "[3] https://www.ibm.com/topics/knn\n",
    "\n",
    "[4] https://www.analyticsvidhya.com/blog/2018/08/k-nearest-neighbor-introduction-regression-python/#How_Does_the_KNN_Algorithm_Work?\n",
   ]
  }
 ],
 "metadata": {
  "language_info": {
   "name": "python"
  }
 },
 "nbformat": 4,
 "nbformat_minor": 2
}

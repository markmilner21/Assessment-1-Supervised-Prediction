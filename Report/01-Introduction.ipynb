{
 "cells": [
  {
   "cell_type": "markdown",
   "metadata": {},
   "source": [
    "# Problem Definition\n",
    "\n",
    "The primary objective of this project is to develop and compare the performance of multiple regression models in predicting the COVID-19 reproduction rate for countries with unavailable data, such as North Korea. To tackle the challenge of predicting data for North Korea, where data is largely inaccessible, we will consider alternative countries for which we do have the necessary covariate data and target variable data. This enables us to test our various models and draw insights that could then be applied to similar regions with limited data availability.\n"
   ]
  },
  {
   "cell_type": "markdown",
   "metadata": {},
   "source": [
    "# Model Selection\n",
    "\n",
    "Brief rationale for why we initially selected these models (try get a reference in here). Brief Mathematical explaination\n",
    "\n",
    "1. Linear Regression: baseline model\n",
    "\n",
    "2. KNN: To test a non-parametric approach that relies on proximity in feature space, which can perform well in datasets with fewer assumptions about linearity.\n",
    "\n",
    "3. RF: To evaluate a more complex, ensemble model that can handle non-linear relationships and interactions, potentially providing better performance if the data is complex."
   ]
  },
  {
   "cell_type": "markdown",
   "metadata": {},
   "source": [
    "# Performance Metric Selection and justification\n",
    "\n",
    "- justify MSE\n",
    "- For a regression problem, explain that MSE is widely used to measure model accuracy as it captures the average squared difference between actual and predicted values, heavily penalizing larger errors and thus encouraging more precise predictions."
   ]
  },
  {
   "cell_type": "markdown",
   "metadata": {},
   "source": [
    "# Initial Hypothesis "
   ]
  },
  {
   "cell_type": "markdown",
   "metadata": {},
   "source": [
    "### References"
   ]
  }
 ],
 "metadata": {
  "language_info": {
   "name": "python"
  }
 },
 "nbformat": 4,
 "nbformat_minor": 2
}

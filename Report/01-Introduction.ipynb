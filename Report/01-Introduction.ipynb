{
 "cells": [
  {
   "cell_type": "markdown",
   "metadata": {},
   "source": [
    "# Problem Definition"
   ]
  },
  {
   "cell_type": "markdown",
   "metadata": {},
   "source": [
    "# Model Selection\n",
    "\n",
    "Brief rationale for why we initially selected these models (try get a reference in here)\n",
    "\n",
    "1. Linear Regression: baseline model\n",
    "\n",
    "2. KNN: To test a non-parametric approach that relies on proximity in feature space, which can perform well in datasets with fewer assumptions about linearity.\n",
    "\n",
    "3. RF: To evaluate a more complex, ensemble model that can handle non-linear relationships and interactions, potentially providing better performance if the data is complex."
   ]
  },
  {
   "cell_type": "markdown",
   "metadata": {},
   "source": []
  },
  {
   "cell_type": "markdown",
   "metadata": {},
   "source": [
    "### References"
   ]
  }
 ],
 "metadata": {
  "language_info": {
   "name": "python"
  }
 },
 "nbformat": 4,
 "nbformat_minor": 2
}

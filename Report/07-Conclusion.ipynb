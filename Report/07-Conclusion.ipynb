{
 "cells": [
  {
   "cell_type": "markdown",
   "metadata": {},
   "source": [
    "# Model Performance Comparison"
   ]
  },
  {
   "cell_type": "markdown",
   "metadata": {},
   "source": [
    "### Random Test Country Comparison \n",
    "\n",
    "- graph\n",
    "- MSE values\n",
    "- comparing these results \n",
    "- what this means for our model\n",
    "- talk about the graph and MSE for that country\n",
    "- Generalising to the whole testing dataset talk about the MSE for the entire model"
   ]
  },
  {
   "cell_type": "code",
   "execution_count": null,
   "metadata": {},
   "outputs": [],
   "source": [
    "# get random country here"
   ]
  },
  {
   "cell_type": "markdown",
   "metadata": {},
   "source": []
  },
  {
   "cell_type": "markdown",
   "metadata": {},
   "source": [
    "# Performance Metric Evaluation"
   ]
  },
  {
   "cell_type": "markdown",
   "metadata": {},
   "source": [
    "## ROC "
   ]
  },
  {
   "cell_type": "markdown",
   "metadata": {},
   "source": [
    "# Limitation Acknowledgement and Final Takeaways\n",
    "\n",
    "- any kind of things you would have added to your models if you had more time (breif)\n",
    "\n",
    "- final 'best' model submission and reference to the introduction in a real life environemtn"
   ]
  }
 ],
 "metadata": {
  "language_info": {
   "name": "python"
  }
 },
 "nbformat": 4,
 "nbformat_minor": 2
}

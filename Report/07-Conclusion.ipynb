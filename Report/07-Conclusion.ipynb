{
 "cells": [
  {
   "cell_type": "markdown",
   "metadata": {},
   "source": [
    "# Model Performance Comparison"
   ]
  },
  {
   "cell_type": "markdown",
   "metadata": {},
   "source": [
    "### Random Test Country Comparison \n",
    "\n",
    "- graph\n",
    "- MSE values\n",
    "- comparing these results \n",
    "- what this means for our model\n",
    "- talk about the graph and MSE for that country\n",
    "- Generalising to the whole testing dataset talk about the MSE for the entire model"
   ]
  },
  {
   "cell_type": "code",
   "execution_count": null,
   "metadata": {},
   "outputs": [],
   "source": [
    "# get random country here\n",
    "\n",
    "import random\n",
    "random.seet(21)\n",
    "iso_codes = test_set2['iso_code'].unique()\n",
    "random_iso_code = random.choice(iso_codes)\n",
    "country_to_display = test_set2[test_set2['iso_code'] == random_iso_code]\n",
    "print(random_iso_code)\n"
   ]
  },
  {
   "cell_type": "markdown",
   "metadata": {},
   "source": []
  },
  {
   "cell_type": "markdown",
   "metadata": {},
   "source": [
    "# Performance Metric Evaluation"
   ]
  },
  {
   "cell_type": "markdown",
   "metadata": {},
   "source": [
    "the nature of our problem (one figure vs ROC curve for example)\n",
    "\n",
    "why MSE might not be the best, why something ASE might be better, anything else"
   ]
  },
  {
   "cell_type": "markdown",
   "metadata": {},
   "source": [
    "# Limitation Acknowledgement and Final Takeaways\n",
    "\n",
    "- any kind of things you would have added to your models if you had more time (breif). \n",
    "\n",
    "\n",
    "This substitution allows the model to function but does not account for NK-specific factors, meaning predictions should be interpreted cautiously. Future availability of NK data could significantly improve model accuracy and relevance.\"\n",
    "\n",
    "- final 'best' model submission and reference to the introduction in a real life environemt. "
   ]
  }
 ],
 "metadata": {
  "language_info": {
   "name": "python"
  }
 },
 "nbformat": 4,
 "nbformat_minor": 2
}

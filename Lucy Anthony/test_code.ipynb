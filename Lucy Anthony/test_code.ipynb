{
 "cells": [
  {
   "cell_type": "code",
   "execution_count": 38,
   "metadata": {},
   "outputs": [],
   "source": [
    "import pandas as pd\n",
    "import matplotlib.pyplot as plt\n",
    "from sklearn.preprocessing import StandardScaler\n",
    "from sklearn.preprocessing import MinMaxScaler\n",
    "from sklearn.preprocessing import RobustScaler\n",
    "from sklearn.neighbors import KNeighborsRegressor\n",
    "from sklearn.model_selection import cross_val_score\n",
    "from sklearn.model_selection import GridSearchCV\n",
    "from sklearn.ensemble import BaggingRegressor\n",
    "from sklearn.metrics import mean_squared_error\n",
    "from sklearn.cross_decomposition import PLSRegression\n",
    "from sklearn.metrics import r2_score\n",
    "from sklearn.feature_selection import RFE\n",
    "from sklearn.linear_model import LinearRegression\n",
    "from sklearn.decomposition import PCA\n",
    "from sklearn.metrics import mean_absolute_error"
   ]
  },
  {
   "cell_type": "code",
   "execution_count": 3,
   "metadata": {},
   "outputs": [],
   "source": [
    "test_file_path = '/home/lucyanthony/University/bristol/year_4/DataScienceToolbox/Assessment1/Datasets/test.xlsx'\n",
    "train_file_path = '/home/lucyanthony/University/bristol/year_4/DataScienceToolbox/Assessment1/Datasets/train.xlsx'\n",
    "test_data = pd.read_excel(test_file_path)\n",
    "train_data = pd.read_excel(train_file_path)"
   ]
  },
  {
   "cell_type": "code",
   "execution_count": 14,
   "metadata": {},
   "outputs": [],
   "source": [
    "indep_train = train_data[['Mean_Stringency_Index', 'CH_Index', 'Gov_Resp_Index', 'Econ_Sup_Index', 'days_since', 'total_cases', 'total_deaths', 'new_cases', 'new_deaths']]\n",
    "dep_train = train_data['reproduction_rate']\n",
    "indep_test = test_data[['Mean_Stringency_Index', 'CH_Index', 'Gov_Resp_Index', 'Econ_Sup_Index', 'days_since', 'total_cases', 'total_deaths', 'new_cases', 'new_deaths']]\n",
    "dep_test = test_data['reproduction_rate']\n",
    "\n",
    "# Knn models are distance based, so scaling of features (indep. variables) is essential\n",
    "\n",
    "scaler = RobustScaler()\n",
    "\n",
    "# We apply the function fit_transform to the training data which chooses model parameters according to the mean and standard deviation\n",
    "# We apply simply the transform function to the test data since the model parameters have already been chosen\n",
    "\n",
    "indep_scaled_train = scaler.fit_transform(indep_train)\n",
    "indep_scaled_test = scaler.transform(indep_test)"
   ]
  },
  {
   "cell_type": "code",
   "execution_count": 21,
   "metadata": {},
   "outputs": [
    {
     "name": "stdout",
     "output_type": "stream",
     "text": [
      "Mean Squared Error for k=15: 0.1888025598963954\n"
     ]
    }
   ],
   "source": [
    "knn = KNeighborsRegressor(n_neighbors=15, p=1, weights='uniform')\n",
    "knn.fit(indep_scaled_train, dep_train)\n",
    "prediction = knn.predict(indep_scaled_test)\n",
    "\n",
    "# Now we will test the performance of our model\n",
    "\n",
    "mse = mean_squared_error(dep_test, prediction)\n",
    "print(f'Mean Squared Error for k=15: {mse}')"
   ]
  },
  {
   "cell_type": "code",
   "execution_count": 26,
   "metadata": {},
   "outputs": [
    {
     "name": "stdout",
     "output_type": "stream",
     "text": [
      "Mean Squared Error for k=16, p=1, weights=\"uniform\", with selected features: 0.18681731698409274\n",
      "Selected Features: [False  True  True  True  True False False False False]\n"
     ]
    }
   ],
   "source": [
    "base_model = LinearRegression()\n",
    "knn_model = KNeighborsRegressor(n_neighbors=15, p=1, weights = 'uniform')\n",
    "\n",
    "rfe = RFE(estimator=base_model, n_features_to_select=4)\n",
    "rfe.fit(indep_scaled_train, dep_train)\n",
    "train_rfe = rfe.transform(indep_scaled_train)\n",
    "test_rfe = rfe.transform(indep_scaled_test)\n",
    "\n",
    "# RFE and selects important features using the linear regression model\n",
    "# Now we test the KNN model using these variables\n",
    "\n",
    "knn_model.fit(train_rfe, dep_train)\n",
    "predictions = knn_model.predict(test_rfe)\n",
    "mse = mean_squared_error(dep_test, predictions)\n",
    "\n",
    "print(f'Mean Squared Error for k=16, p=1, weights=\"uniform\", with selected features: {mse}')\n",
    "print(f'Selected Features: {rfe.support_}')"
   ]
  },
  {
   "cell_type": "code",
   "execution_count": 27,
   "metadata": {},
   "outputs": [
    {
     "name": "stdout",
     "output_type": "stream",
     "text": [
      "Average MSE from 3-fold cross-validation with PCA: 0.189561857175738\n",
      "Test MSE with PCA: 0.19194715950102612\n"
     ]
    }
   ],
   "source": [
    "knn = KNeighborsRegressor(n_neighbors=15, p=1, weights='uniform')\n",
    "pca = PCA(n_components=0.95)\n",
    "pca_train = pca.fit_transform(indep_scaled_train)\n",
    "pca_test = pca.transform(indep_scaled_test)\n",
    "\n",
    "scores_pca = cross_val_score(knn, pca_train, dep_train, cv=3, scoring='neg_mean_squared_error')\n",
    "average_mse_pca = -scores_pca.mean()\n",
    "\n",
    "print(f\"Average MSE from 3-fold cross-validation with PCA: {average_mse_pca}\")\n",
    "\n",
    "# We can also train on the full data now, and test on the test data\n",
    "\n",
    "knn.fit(pca_train, dep_train)\n",
    "predictions_pca = knn.predict(pca_test)\n",
    "mse_test_pca = mean_squared_error(dep_test, predictions_pca)\n",
    "\n",
    "print(f\"Test MSE with PCA: {mse_test_pca}\")"
   ]
  },
  {
   "cell_type": "code",
   "execution_count": 43,
   "metadata": {},
   "outputs": [
    {
     "name": "stdout",
     "output_type": "stream",
     "text": [
      "Mean Squared Error after PLS: 0.1802949371897259\n"
     ]
    }
   ],
   "source": [
    "# We will try PLS\n",
    "\n",
    "pls = PLSRegression(n_components=3)\n",
    "indep_train_pls = pls.fit_transform(indep_scaled_train, dep_train)[0]\n",
    "indep_test_pls = pls.transform(indep_scaled_test)\n",
    "\n",
    "knn = KNeighborsRegressor(n_neighbors=15, p=1, weights='uniform')\n",
    "knn.fit(indep_train_pls, dep_train)\n",
    "\n",
    "predictions = knn.predict(indep_test_pls)\n",
    "mse = mean_squared_error(dep_test, predictions)\n",
    "print(f'Mean Squared Error after PLS: {mse}')"
   ]
  },
  {
   "cell_type": "code",
   "execution_count": 50,
   "metadata": {},
   "outputs": [
    {
     "name": "stdout",
     "output_type": "stream",
     "text": [
      "Mean Squared Error after PLS: 0.18603565048122678\n"
     ]
    }
   ],
   "source": [
    "# Now we will try Bagging (indirectly) to help the knn\n",
    "\n",
    "knn = KNeighborsRegressor(n_neighbors=15, p=1, weights='uniform')\n",
    "bagging_knn = BaggingRegressor(knn, n_estimators=20)\n",
    "bagging_knn.fit(indep_scaled_train, dep_train)\n",
    "predictions = bagging_knn.predict(indep_scaled_test)\n",
    "mse = mean_squared_error(dep_test, predictions)\n",
    "print(f'Mean Squared Error after PLS: {mse}')"
   ]
  },
  {
   "cell_type": "code",
   "execution_count": null,
   "metadata": {},
   "outputs": [],
   "source": [
    "# Now we will try t-SNE\n",
    "\n"
   ]
  }
 ],
 "metadata": {
  "kernelspec": {
   "display_name": "Python 3",
   "language": "python",
   "name": "python3"
  },
  "language_info": {
   "codemirror_mode": {
    "name": "ipython",
    "version": 3
   },
   "file_extension": ".py",
   "mimetype": "text/x-python",
   "name": "python",
   "nbconvert_exporter": "python",
   "pygments_lexer": "ipython3",
   "version": "3.12.3"
  }
 },
 "nbformat": 4,
 "nbformat_minor": 2
}
